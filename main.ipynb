{
 "cells": [
  {
   "cell_type": "code",
   "execution_count": 1,
   "metadata": {},
   "outputs": [],
   "source": [
    "import numpy as np\n",
    "import cv2\n",
    "import importlib\n",
    "import pandas as pd\n",
    "import random\n",
    "import pickle\n",
    "import time\n",
    "import matplotlib.pyplot as plt\n",
    "\n",
    "import functions as fc\n",
    "import LeNet_module as mc"
   ]
  },
  {
   "cell_type": "markdown",
   "metadata": {},
   "source": [
    "# Load dataset"
   ]
  },
  {
   "cell_type": "code",
   "execution_count": 2,
   "metadata": {},
   "outputs": [
    {
     "data": {
      "text/plain": [
       "((63325,), (450,), (450,))"
      ]
     },
     "execution_count": 2,
     "metadata": {},
     "output_type": "execute_result"
    }
   ],
   "source": [
    "train_df = pd.read_csv('./dataset/train.txt', sep=' ', header=None)\n",
    "test_df = pd.read_csv('./dataset/test.txt', sep=' ', header=None)\n",
    "val_df = pd.read_csv('./dataset/val.txt', sep=' ', header=None)\n",
    "train_paths, train_response = './dataset/' + train_df[0].to_numpy(), train_df[1].to_numpy()\n",
    "test_paths, test_response = './dataset/' + test_df[0].to_numpy(), test_df[1].to_numpy()\n",
    "val_paths, val_response = './dataset/' + val_df[0].to_numpy(), val_df[1].to_numpy()\n",
    "train_paths.shape, test_paths.shape, val_paths.shape"
   ]
  },
  {
   "cell_type": "markdown",
   "metadata": {},
   "source": [
    "# model define"
   ]
  },
  {
   "cell_type": "code",
   "execution_count": 3,
   "metadata": {},
   "outputs": [],
   "source": [
    "importlib.reload(mc)\n",
    "\n",
    "# model hyparameters define\n",
    "epochs = 5\n",
    "batchs = 10\n",
    "lr = 0.01\n",
    "\n",
    "# model define\n",
    "module = mc.LeNet5()\n",
    "lossf = mc.CrossEntropyLoss()\n",
    "opt = mc.SGD(module.get_params(), lr=lr)\n",
    "logger = fc.create_logger('./logger/', 'logger.txt')\n",
    "\n",
    "# logger.disabled = True  #暫停 logger\n",
    "# for i in logger.handlers:  # delete logger\n",
    "#     logger.removeHandler(i)\n",
    "# logger.handlers = []\n",
    "# del(logger)"
   ]
  },
  {
   "cell_type": "markdown",
   "metadata": {},
   "source": [
    "# train"
   ]
  },
  {
   "cell_type": "code",
   "execution_count": 4,
   "metadata": {},
   "outputs": [],
   "source": [
    "# random sort traning image\n",
    "N = train_df.shape[0]\n",
    "trainIndex = [i for i in range(N)]\n",
    "random.shuffle(trainIndex)\n",
    "\n",
    "# accuracy log\n",
    "train_accu1 = []\n",
    "val_accu1 = []\n",
    "train_accu5 = []\n",
    "val_accu5 = []\n",
    "\n",
    "# load module parameters\n",
    "# with open('./model/module.pickle', 'rb') as f:\n",
    "#     d = pickle.load(f)\n",
    "# module.load_model(d)"
   ]
  },
  {
   "cell_type": "code",
   "execution_count": 6,
   "metadata": {},
   "outputs": [],
   "source": [
    "module_save_path = './model/module.pickle'\n",
    "accu_save_path = './model/accu.pickle'\n",
    "\n",
    "start = time.time()\n",
    "logger.info('start at {}'.format(start))\n",
    "\n",
    "for epoch in range(1, epochs+1):\n",
    "    logger.info('Epoch {}/{}'.format(epoch, epochs))\n",
    "    logger.info('-' * 10)\n",
    "    \n",
    "    for phase in ['train', 'val']:\n",
    "        if phase == 'train':\n",
    "            c = 0\n",
    "            while c < N:\n",
    "                Index = trainIndex[c:c+batchs]\n",
    "                imgList = train_paths[Index]\n",
    "                inputs = fc.path2pic(imgList)\n",
    "                real = train_response[Index]\n",
    "                real_one_hot = mc.MakeOneHot(real, 50)\n",
    "                outputs = module.forward(inputs)\n",
    "                loss, dout = lossf.get(outputs, real_one_hot)\n",
    "                logger.info('loss: {}'.format(loss))\n",
    "                module.backward(dout)\n",
    "                opt.step()\n",
    "                c += batchs\n",
    "                \n",
    "            inputs = fc.path2pic(train_paths)\n",
    "            outputs = module.forward(inputs)\n",
    "            accu1 = fc.top_n_accuracy(outputs, train_response, n=1)\n",
    "            accu5 = fc.top_n_accuracy(outputs, train_response, n=5)\n",
    "            train_accu1.append(accu1)\n",
    "            train_accu5.append(accu5)\n",
    "            \n",
    "        else:\n",
    "            inputs = fc.path2pic(val_paths)\n",
    "            outputs = module.forward(inputs)\n",
    "            accu1 = fc.top_n_accuracy(outputs, val_response, n=1)\n",
    "            accu5 = fc.top_n_accuracy(outputs, val_response, n=5)\n",
    "            val_accu1.append(accu1)\n",
    "            val_accu5.append(accu5)\n",
    "        \n",
    "        accu_dict = {'train1':train_accu1, 'val1':val_accu1, 'train5':train_accu5, 'val5':val_accu5}\n",
    "        with open(accu_save_path, 'wb') as f:\n",
    "            pickle.dump(accu_dict, f)\n",
    "\n",
    "    train_time = time.time() - start\n",
    "    with open(module_save_path, 'wb') as f:\n",
    "        pickle.dump(module.get_params(), f)\n",
    "    logger.info('train time {}, {}/{}'.format(train_time, epoch, epochs))"
   ]
  },
  {
   "cell_type": "markdown",
   "metadata": {},
   "source": [
    "# test"
   ]
  },
  {
   "cell_type": "code",
   "execution_count": 3,
   "metadata": {},
   "outputs": [],
   "source": [
    "module = mc.Perception()\n",
    "with open('./model/module.pickle', 'rb') as f:\n",
    "    d = pickle.load(f)\n",
    "    module.load_model(d)"
   ]
  },
  {
   "cell_type": "code",
   "execution_count": 5,
   "metadata": {},
   "outputs": [],
   "source": [
    "test_df = pd.read_csv('./images/test.txt', sep=' ', header=None)\n",
    "test_response = test_df[1].to_numpy()\n",
    "with open('./imgFeature/testFeature.pickle', 'rb') as f:\n",
    "    testFeature = pickle.load(f)\n",
    "\n",
    "with open('./model/accu.pickle', 'rb') as f:\n",
    "    accu_dict = pickle.load(f)"
   ]
  },
  {
   "cell_type": "code",
   "execution_count": 6,
   "metadata": {},
   "outputs": [],
   "source": [
    "Ypred = module.forward(testFeature)"
   ]
  },
  {
   "cell_type": "code",
   "execution_count": 7,
   "metadata": {},
   "outputs": [
    {
     "data": {
      "text/plain": [
       "(0.02, 0.1)"
      ]
     },
     "execution_count": 7,
     "metadata": {},
     "output_type": "execute_result"
    }
   ],
   "source": [
    "# top 1 accuracy                      top 5 accuracy\n",
    "fc.top_n_accuracy(Ypred, test_response, n=1), fc.top_n_accuracy(Ypred, test_response, n=5)"
   ]
  },
  {
   "cell_type": "markdown",
   "metadata": {},
   "source": [
    "# draw curve"
   ]
  },
  {
   "cell_type": "code",
   "execution_count": 8,
   "metadata": {},
   "outputs": [],
   "source": [
    "train_accu1 = accu_dict['train1']\n",
    "val_accu1 = accu_dict['val1']\n",
    "train_accu5 = accu_dict['train5']\n",
    "val_accu5 = accu_dict['val5']"
   ]
  },
  {
   "cell_type": "code",
   "execution_count": 9,
   "metadata": {},
   "outputs": [
    {
     "data": {
      "text/plain": [
       "(0.02, 0.1)"
      ]
     },
     "execution_count": 9,
     "metadata": {},
     "output_type": "execute_result"
    }
   ],
   "source": [
    "val_accu1[-1], val_accu5[-1]"
   ]
  },
  {
   "cell_type": "code",
   "execution_count": 10,
   "metadata": {},
   "outputs": [],
   "source": [
    "X = [i for i in range(len(train_accu1))]"
   ]
  },
  {
   "cell_type": "code",
   "execution_count": 1,
   "metadata": {},
   "outputs": [],
   "source": [
    "# plt.plot(X, train_accu1, 'g', label='Training loss')\n",
    "# plt.plot(X, val_accu1, 'b', label='validation loss')\n",
    "# plt.title('Training and Validation loss')\n",
    "# plt.xlabel('Epochs')\n",
    "# plt.ylabel('top 1 accuracy')\n",
    "# plt.legend()\n",
    "# plt.savefig('top1 accuracy.png')\n",
    "# plt.show()"
   ]
  },
  {
   "cell_type": "code",
   "execution_count": 2,
   "metadata": {},
   "outputs": [],
   "source": [
    "# plt.plot(X, train_accu5, 'g', label='Training loss')\n",
    "# plt.plot(X, val_accu5, 'b', label='validation loss')\n",
    "# plt.title('Training and Validation loss')\n",
    "# plt.xlabel('Epochs')\n",
    "# plt.ylabel('top 5 accuracy')\n",
    "# plt.legend()\n",
    "# plt.savefig('top5 accuracy.png')\n",
    "# plt.show()"
   ]
  },
  {
   "cell_type": "markdown",
   "metadata": {},
   "source": [
    "# try"
   ]
  },
  {
   "cell_type": "code",
   "execution_count": 4,
   "metadata": {},
   "outputs": [
    {
     "data": {
      "text/plain": [
       "array([4., 4., 4., 4., 4.])"
      ]
     },
     "execution_count": 4,
     "metadata": {},
     "output_type": "execute_result"
    }
   ],
   "source": [
    "x = np.ones([4, 5])\n",
    "np.matmul(np.ones(4), x)"
   ]
  },
  {
   "cell_type": "code",
   "execution_count": 13,
   "metadata": {},
   "outputs": [
    {
     "data": {
      "text/plain": [
       "(array([[1., 2., 3., 4., 5.],\n",
       "        [1., 2., 3., 4., 5.],\n",
       "        [1., 2., 3., 4., 5.],\n",
       "        [1., 2., 3., 4., 5.],\n",
       "        [1., 2., 3., 4., 5.]]),\n",
       " array([[1., 2., 3., 4., 5.],\n",
       "        [1., 2., 3., 4., 5.],\n",
       "        [1., 2., 3., 4., 5.],\n",
       "        [1., 2., 3., 4., 5.],\n",
       "        [1., 2., 3., 4., 5.]]))"
      ]
     },
     "execution_count": 13,
     "metadata": {},
     "output_type": "execute_result"
    }
   ],
   "source": [
    "x = np.ones([5, 5])\n",
    "y = np.array([1, 2, 3, 4, 5]).T\n",
    "x.T * y, y * x"
   ]
  },
  {
   "cell_type": "code",
   "execution_count": 12,
   "metadata": {},
   "outputs": [
    {
     "data": {
      "text/plain": [
       "array([1, 2, 3, 4, 5])"
      ]
     },
     "execution_count": 12,
     "metadata": {},
     "output_type": "execute_result"
    }
   ],
   "source": [
    "y"
   ]
  },
  {
   "cell_type": "code",
   "execution_count": 24,
   "metadata": {},
   "outputs": [],
   "source": [
    "class Perceptron:\n",
    "    def __init__(self, n_inputs, activ_func='Sign', save_fig=False):\n",
    "        self.weights = np.array([0.0] * (n_inputs + 1)) # 1 more for bias\n",
    "        self.__save_fig = save_fig\n",
    "        #self.__activation = ActivationFunction(activ_func)\n",
    "        \n",
    "    @property\n",
    "    def weight(self):\n",
    "        return self.weights[:]"
   ]
  },
  {
   "cell_type": "code",
   "execution_count": 25,
   "metadata": {},
   "outputs": [],
   "source": [
    "p = Perceptron(5)"
   ]
  },
  {
   "cell_type": "code",
   "execution_count": 26,
   "metadata": {},
   "outputs": [
    {
     "data": {
      "text/plain": [
       "array([0., 0., 0., 0., 0., 0.])"
      ]
     },
     "execution_count": 26,
     "metadata": {},
     "output_type": "execute_result"
    }
   ],
   "source": [
    "p.weight"
   ]
  },
  {
   "cell_type": "code",
   "execution_count": 4,
   "metadata": {},
   "outputs": [
    {
     "data": {
      "text/plain": [
       "array([[0.4312073 , 0.79563335, 0.7903964 , 0.44791607, 0.97743261],\n",
       "       [0.19974816, 0.47477725, 0.23096726, 0.31079405, 0.12462861],\n",
       "       [0.65393639, 0.70778974, 0.82724055, 0.1705234 , 0.76576441],\n",
       "       [0.1714608 , 0.6969142 , 0.53680819, 0.25848411, 0.22410697],\n",
       "       [0.94678149, 0.24725074, 0.92050283, 0.18422513, 0.4689876 ]])"
      ]
     },
     "execution_count": 4,
     "metadata": {},
     "output_type": "execute_result"
    }
   ],
   "source": [
    "x = np.random.rand(5, 5)\n",
    "x"
   ]
  },
  {
   "cell_type": "code",
   "execution_count": 10,
   "metadata": {},
   "outputs": [
    {
     "data": {
      "text/plain": [
       "array([[1.4312073 , 1.79563335, 1.7903964 , 1.44791607, 1.97743261],\n",
       "       [1.19974816, 1.47477725, 1.23096726, 1.31079405, 1.12462861],\n",
       "       [1.65393639, 1.70778974, 1.82724055, 1.1705234 , 1.76576441],\n",
       "       [1.1714608 , 1.6969142 , 1.53680819, 1.25848411, 1.22410697],\n",
       "       [1.94678149, 1.24725074, 1.92050283, 1.18422513, 1.4689876 ]])"
      ]
     },
     "execution_count": 10,
     "metadata": {},
     "output_type": "execute_result"
    }
   ],
   "source": [
    "x + np.ones([1, 5])"
   ]
  },
  {
   "cell_type": "code",
   "execution_count": 9,
   "metadata": {},
   "outputs": [
    {
     "data": {
      "text/plain": [
       "array([[1., 1., 1., 1., 1.]])"
      ]
     },
     "execution_count": 9,
     "metadata": {},
     "output_type": "execute_result"
    }
   ],
   "source": [
    "np.ones([1, 5])"
   ]
  },
  {
   "cell_type": "code",
   "execution_count": 42,
   "metadata": {},
   "outputs": [
    {
     "data": {
      "text/plain": [
       "array([[3, 4, 1, 2, 0],\n",
       "       [1, 2, 4, 0, 3],\n",
       "       [3, 0, 2, 4, 1],\n",
       "       [4, 2, 1, 0, 3]], dtype=int64)"
      ]
     },
     "execution_count": 42,
     "metadata": {},
     "output_type": "execute_result"
    }
   ],
   "source": [
    "np.argsort(np.random.rand(4, 5), axis=1)"
   ]
  },
  {
   "cell_type": "code",
   "execution_count": 43,
   "metadata": {},
   "outputs": [
    {
     "data": {
      "text/plain": [
       "True"
      ]
     },
     "execution_count": 43,
     "metadata": {},
     "output_type": "execute_result"
    }
   ],
   "source": [
    "5 in np.array([3, 5])"
   ]
  },
  {
   "cell_type": "code",
   "execution_count": 17,
   "metadata": {},
   "outputs": [
    {
     "data": {
      "text/plain": [
       "array([[0.6145373 , 0.97898866, 0.70528055, 0.25576186, 0.44729359],\n",
       "       [0.35282704, 0.86313082, 0.05634414, 0.12630937, 0.61096443],\n",
       "       [0.09034133, 0.58801322, 0.10469448, 0.07339031, 0.42117945],\n",
       "       [0.35821314, 0.32672913, 0.57349844, 0.43201292, 0.31985492]])"
      ]
     },
     "execution_count": 17,
     "metadata": {},
     "output_type": "execute_result"
    }
   ],
   "source": [
    "x = np.random.rand(4, 5)\n",
    "x"
   ]
  },
  {
   "cell_type": "code",
   "execution_count": 26,
   "metadata": {},
   "outputs": [
    {
     "data": {
      "text/plain": [
       "array([[0.30726865, 0.48949433, 0.35264028, 0.12788093, 0.22364679],\n",
       "       [0.11760901, 0.28771027, 0.01878138, 0.04210312, 0.20365481],\n",
       "       [0.02258533, 0.1470033 , 0.02617362, 0.01834758, 0.10529486],\n",
       "       [0.07164263, 0.06534583, 0.11469969, 0.08640258, 0.06397098]])"
      ]
     },
     "execution_count": 26,
     "metadata": {},
     "output_type": "execute_result"
    }
   ],
   "source": [
    "y = np.array([2, 3, 4, 5]).reshape([1, -1])\n",
    "x / y.T"
   ]
  },
  {
   "cell_type": "code",
   "execution_count": 13,
   "metadata": {},
   "outputs": [
    {
     "data": {
      "text/plain": [
       "array([1.95657326, 2.57029645, 1.92410748, 3.18509092])"
      ]
     },
     "execution_count": 13,
     "metadata": {},
     "output_type": "execute_result"
    }
   ],
   "source": [
    "np.sum(x, axis=1)"
   ]
  },
  {
   "cell_type": "code",
   "execution_count": 27,
   "metadata": {},
   "outputs": [
    {
     "data": {
      "text/plain": [
       "array([[2, 3, 4, 5]])"
      ]
     },
     "execution_count": 27,
     "metadata": {},
     "output_type": "execute_result"
    }
   ],
   "source": [
    "y"
   ]
  },
  {
   "cell_type": "code",
   "execution_count": null,
   "metadata": {},
   "outputs": [],
   "source": []
  }
 ],
 "metadata": {
  "kernelspec": {
   "display_name": "Python 3",
   "language": "python",
   "name": "python3"
  },
  "language_info": {
   "codemirror_mode": {
    "name": "ipython",
    "version": 3
   },
   "file_extension": ".py",
   "mimetype": "text/x-python",
   "name": "python",
   "nbconvert_exporter": "python",
   "pygments_lexer": "ipython3",
   "version": "3.8.8"
  }
 },
 "nbformat": 4,
 "nbformat_minor": 4
}
